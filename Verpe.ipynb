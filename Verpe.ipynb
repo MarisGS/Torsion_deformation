{
 "cells": [
  {
   "cell_type": "markdown",
   "metadata": {},
   "source": [
    "Relatīvā savērpes leņķa aprēķins\n",
    "apaļam stieniem"
   ]
  },
  {
   "cell_type": "code",
   "execution_count": 5,
   "metadata": {
    "slideshow": {
     "slide_type": "slide"
    }
   },
   "outputs": [
    {
     "data": {
      "text/latex": [
       "Relatīvo savērpes leņķi var noteikt:"
      ],
      "text/plain": [
       "<IPython.core.display.Latex object>"
      ]
     },
     "metadata": {},
     "output_type": "display_data"
    },
    {
     "data": {
      "text/latex": [
       "$\\displaystyle \\Theta_r =  \\frac{T}{G\\cdot J}$"
      ],
      "text/plain": [
       "<IPython.core.display.Math object>"
      ]
     },
     "metadata": {},
     "output_type": "display_data"
    },
    {
     "data": {
      "text/latex": [
       "Šķēluma formas pretestīvu vērpei raksturo polārais laukuma moments."
      ],
      "text/plain": [
       "<IPython.core.display.Latex object>"
      ]
     },
     "metadata": {},
     "output_type": "display_data"
    },
    {
     "data": {
      "text/latex": [
       "$\\displaystyle J =  \\frac{\\pi\\cdot r^4}{2}$"
      ],
      "text/plain": [
       "<IPython.core.display.Math object>"
      ]
     },
     "metadata": {},
     "output_type": "display_data"
    },
    {
     "data": {
      "text/latex": [
       "Apvienojot abus vienādojumus:"
      ],
      "text/plain": [
       "<IPython.core.display.Latex object>"
      ]
     },
     "metadata": {},
     "output_type": "display_data"
    },
    {
     "data": {
      "text/latex": [
       "$\\displaystyle \\Theta_r =  \\frac{2\\cdot T}{G \\cdot \\pi^4}$"
      ],
      "text/plain": [
       "<IPython.core.display.Math object>"
      ]
     },
     "metadata": {},
     "output_type": "display_data"
    },
    {
     "data": {
      "text/latex": [
       "Bīdes modulis tēraudam:"
      ],
      "text/plain": [
       "<IPython.core.display.Latex object>"
      ]
     },
     "metadata": {},
     "output_type": "display_data"
    },
    {
     "data": {
      "text/latex": [
       "$\\displaystyle G=8\\cdot10^4 MPa$"
      ],
      "text/plain": [
       "<IPython.core.display.Math object>"
      ]
     },
     "metadata": {},
     "output_type": "display_data"
    },
    {
     "data": {
      "text/latex": [
       "Ievadām vērpes momentu, [Nm]:"
      ],
      "text/plain": [
       "<IPython.core.display.Latex object>"
      ]
     },
     "metadata": {},
     "output_type": "display_data"
    },
    {
     "data": {
      "application/vnd.jupyter.widget-view+json": {
       "model_id": "d70f44f8bcdf496183c0b7710fae3c73",
       "version_major": 2,
       "version_minor": 0
      },
      "text/plain": [
       "interactive(children=(FloatSlider(value=180.0, description='T', max=180.0), FloatSlider(value=23.0, descriptio…"
      ]
     },
     "metadata": {},
     "output_type": "display_data"
    }
   ],
   "source": [
    "#from __future__ import print_function\n",
    "\n",
    "from ipywidgets import interact, interactive, fixed, interact_manual\n",
    "import ipywidgets as widgets\n",
    "from IPython.display import display, Math, Latex\n",
    "import numpy as np\n",
    "\n",
    "display(Latex('Relatīvo savērpes leņķi var noteikt:'))\n",
    "display(Math(r'\\Theta_r =  \\frac{T}{G\\cdot J}'))\n",
    "display(Latex('Šķēluma formas pretestīvu vērpei raksturo polārais laukuma moments.'))\n",
    "#display(Latex('Polārais laukuma moments aplim:'))\n",
    "display(Math(r'J =  \\frac{\\pi\\cdot r^4}{2}'))\n",
    "display(Latex('Apvienojot abus vienādojumus:'))\n",
    "display(Math(r'\\Theta_r =  \\frac{2\\cdot T}{G \\cdot \\pi^4}'))\n",
    "display(Latex('Bīdes modulis tēraudam:'))\n",
    "display(Math(r'G=8\\cdot10^4 MPa'))\n",
    "display(Latex('Ievadām vērpes momentu, [Nm]:'))\n",
    "\n",
    "\n",
    "from fc_verpe import verpe \n",
    "\n",
    "z=interactive(verpe,T=(0.0,180.0), Dbar=(20.0,30.0) )\n",
    "\n",
    "z\n",
    "\n"
   ]
  },
  {
   "cell_type": "markdown",
   "metadata": {},
   "source": [
    "J - polārais laukuma moments aplim"
   ]
  },
  {
   "cell_type": "code",
   "execution_count": null,
   "metadata": {},
   "outputs": [],
   "source": []
  }
 ],
 "metadata": {
  "kernelspec": {
   "display_name": "Python 3",
   "language": "python",
   "name": "python3"
  },
  "language_info": {
   "codemirror_mode": {
    "name": "ipython",
    "version": 3
   },
   "file_extension": ".py",
   "mimetype": "text/x-python",
   "name": "python",
   "nbconvert_exporter": "python",
   "pygments_lexer": "ipython3",
   "version": "3.7.6"
  }
 },
 "nbformat": 4,
 "nbformat_minor": 4
}
